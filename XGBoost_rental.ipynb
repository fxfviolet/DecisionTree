{
 "cells": [
  {
   "cell_type": "markdown",
   "metadata": {},
   "source": [
    "# 对公寓受欢迎程度分类\n",
    "\n",
    "Rental Listing Inquiries数据集是Kaggle平台上的一个分类竞赛任务，根据公寓的特征来预测其受欢迎程度（用户感兴趣程度分为高、中、低三类）。其中房屋的特征x共有14维，响应值y为用户对该公寓的感兴趣程度。用xgboost模型对公寓的受欢迎程度进行分类预测，用logloss作为评价标准。       \n",
    "数据集来源：https://www.kaggle.com/c/two-sigma-connect-rental-listing-inquiries 。"
   ]
  },
  {
   "cell_type": "markdown",
   "metadata": {},
   "source": [
    "# 1.  读取数据和分析数据"
   ]
  },
  {
   "cell_type": "code",
   "execution_count": 1,
   "metadata": {},
   "outputs": [],
   "source": [
    "from xgboost import XGBClassifier\n",
    "import xgboost as xgb\n",
    "\n",
    "import pandas as pd \n",
    "import numpy as np\n",
    "\n",
    "from sklearn.model_selection import GridSearchCV\n",
    "from sklearn.model_selection import StratifiedKFold\n",
    "from sklearn.feature_selection import SelectFromModel\n",
    "\n",
    "from sklearn.metrics import log_loss\n",
    "from sklearn.metrics import accuracy_score\n",
    "from sklearn.metrics import roc_auc_score\n",
    "\n",
    "import matplotlib.pyplot as plt\n",
    "import seaborn as sns"
   ]
  },
  {
   "cell_type": "code",
   "execution_count": 2,
   "metadata": {},
   "outputs": [],
   "source": [
    "# 读取数据 \n",
    "\n",
    "dtrain = pd.read_csv('RentListingInquries_FE_train.csv')\n",
    "dtest = pd.read_csv('RentListingInquries_FE_test.csv')"
   ]
  },
  {
   "cell_type": "code",
   "execution_count": 5,
   "metadata": {},
   "outputs": [
    {
     "data": {
      "text/html": [
       "<div>\n",
       "<style scoped>\n",
       "    .dataframe tbody tr th:only-of-type {\n",
       "        vertical-align: middle;\n",
       "    }\n",
       "\n",
       "    .dataframe tbody tr th {\n",
       "        vertical-align: top;\n",
       "    }\n",
       "\n",
       "    .dataframe thead th {\n",
       "        text-align: right;\n",
       "    }\n",
       "</style>\n",
       "<table border=\"1\" class=\"dataframe\">\n",
       "  <thead>\n",
       "    <tr style=\"text-align: right;\">\n",
       "      <th></th>\n",
       "      <th>bathrooms</th>\n",
       "      <th>bedrooms</th>\n",
       "      <th>price</th>\n",
       "      <th>price_bathrooms</th>\n",
       "      <th>price_bedrooms</th>\n",
       "      <th>room_diff</th>\n",
       "      <th>room_num</th>\n",
       "      <th>Year</th>\n",
       "      <th>Month</th>\n",
       "      <th>Day</th>\n",
       "      <th>...</th>\n",
       "      <th>walk</th>\n",
       "      <th>walls</th>\n",
       "      <th>war</th>\n",
       "      <th>washer</th>\n",
       "      <th>water</th>\n",
       "      <th>wheelchair</th>\n",
       "      <th>wifi</th>\n",
       "      <th>windows</th>\n",
       "      <th>work</th>\n",
       "      <th>interest_level</th>\n",
       "    </tr>\n",
       "  </thead>\n",
       "  <tbody>\n",
       "    <tr>\n",
       "      <th>0</th>\n",
       "      <td>1.5</td>\n",
       "      <td>3</td>\n",
       "      <td>3000</td>\n",
       "      <td>1200.0</td>\n",
       "      <td>750.000000</td>\n",
       "      <td>-1.5</td>\n",
       "      <td>4.5</td>\n",
       "      <td>2016</td>\n",
       "      <td>6</td>\n",
       "      <td>24</td>\n",
       "      <td>...</td>\n",
       "      <td>0</td>\n",
       "      <td>0</td>\n",
       "      <td>0</td>\n",
       "      <td>0</td>\n",
       "      <td>0</td>\n",
       "      <td>0</td>\n",
       "      <td>0</td>\n",
       "      <td>0</td>\n",
       "      <td>0</td>\n",
       "      <td>1</td>\n",
       "    </tr>\n",
       "    <tr>\n",
       "      <th>1</th>\n",
       "      <td>1.0</td>\n",
       "      <td>2</td>\n",
       "      <td>5465</td>\n",
       "      <td>2732.5</td>\n",
       "      <td>1821.666667</td>\n",
       "      <td>-1.0</td>\n",
       "      <td>3.0</td>\n",
       "      <td>2016</td>\n",
       "      <td>6</td>\n",
       "      <td>12</td>\n",
       "      <td>...</td>\n",
       "      <td>0</td>\n",
       "      <td>0</td>\n",
       "      <td>0</td>\n",
       "      <td>0</td>\n",
       "      <td>0</td>\n",
       "      <td>0</td>\n",
       "      <td>0</td>\n",
       "      <td>0</td>\n",
       "      <td>0</td>\n",
       "      <td>2</td>\n",
       "    </tr>\n",
       "    <tr>\n",
       "      <th>2</th>\n",
       "      <td>1.0</td>\n",
       "      <td>1</td>\n",
       "      <td>2850</td>\n",
       "      <td>1425.0</td>\n",
       "      <td>1425.000000</td>\n",
       "      <td>0.0</td>\n",
       "      <td>2.0</td>\n",
       "      <td>2016</td>\n",
       "      <td>4</td>\n",
       "      <td>17</td>\n",
       "      <td>...</td>\n",
       "      <td>0</td>\n",
       "      <td>0</td>\n",
       "      <td>0</td>\n",
       "      <td>0</td>\n",
       "      <td>0</td>\n",
       "      <td>0</td>\n",
       "      <td>0</td>\n",
       "      <td>0</td>\n",
       "      <td>0</td>\n",
       "      <td>0</td>\n",
       "    </tr>\n",
       "    <tr>\n",
       "      <th>3</th>\n",
       "      <td>1.0</td>\n",
       "      <td>1</td>\n",
       "      <td>3275</td>\n",
       "      <td>1637.5</td>\n",
       "      <td>1637.500000</td>\n",
       "      <td>0.0</td>\n",
       "      <td>2.0</td>\n",
       "      <td>2016</td>\n",
       "      <td>4</td>\n",
       "      <td>18</td>\n",
       "      <td>...</td>\n",
       "      <td>0</td>\n",
       "      <td>0</td>\n",
       "      <td>0</td>\n",
       "      <td>0</td>\n",
       "      <td>0</td>\n",
       "      <td>0</td>\n",
       "      <td>0</td>\n",
       "      <td>0</td>\n",
       "      <td>0</td>\n",
       "      <td>2</td>\n",
       "    </tr>\n",
       "    <tr>\n",
       "      <th>4</th>\n",
       "      <td>1.0</td>\n",
       "      <td>4</td>\n",
       "      <td>3350</td>\n",
       "      <td>1675.0</td>\n",
       "      <td>670.000000</td>\n",
       "      <td>-3.0</td>\n",
       "      <td>5.0</td>\n",
       "      <td>2016</td>\n",
       "      <td>4</td>\n",
       "      <td>28</td>\n",
       "      <td>...</td>\n",
       "      <td>0</td>\n",
       "      <td>0</td>\n",
       "      <td>1</td>\n",
       "      <td>0</td>\n",
       "      <td>0</td>\n",
       "      <td>0</td>\n",
       "      <td>0</td>\n",
       "      <td>0</td>\n",
       "      <td>0</td>\n",
       "      <td>2</td>\n",
       "    </tr>\n",
       "  </tbody>\n",
       "</table>\n",
       "<p>5 rows × 228 columns</p>\n",
       "</div>"
      ],
      "text/plain": [
       "   bathrooms  bedrooms  price  price_bathrooms  price_bedrooms  room_diff  \\\n",
       "0        1.5         3   3000           1200.0      750.000000       -1.5   \n",
       "1        1.0         2   5465           2732.5     1821.666667       -1.0   \n",
       "2        1.0         1   2850           1425.0     1425.000000        0.0   \n",
       "3        1.0         1   3275           1637.5     1637.500000        0.0   \n",
       "4        1.0         4   3350           1675.0      670.000000       -3.0   \n",
       "\n",
       "   room_num  Year  Month  Day       ...        walk  walls  war  washer  \\\n",
       "0       4.5  2016      6   24       ...           0      0    0       0   \n",
       "1       3.0  2016      6   12       ...           0      0    0       0   \n",
       "2       2.0  2016      4   17       ...           0      0    0       0   \n",
       "3       2.0  2016      4   18       ...           0      0    0       0   \n",
       "4       5.0  2016      4   28       ...           0      0    1       0   \n",
       "\n",
       "   water  wheelchair  wifi  windows  work  interest_level  \n",
       "0      0           0     0        0     0               1  \n",
       "1      0           0     0        0     0               2  \n",
       "2      0           0     0        0     0               0  \n",
       "3      0           0     0        0     0               2  \n",
       "4      0           0     0        0     0               2  \n",
       "\n",
       "[5 rows x 228 columns]"
      ]
     },
     "execution_count": 5,
     "metadata": {},
     "output_type": "execute_result"
    }
   ],
   "source": [
    "# 查看具体的数据\n",
    "\n",
    "dtrain.head()"
   ]
  },
  {
   "cell_type": "code",
   "execution_count": 6,
   "metadata": {},
   "outputs": [
    {
     "data": {
      "text/html": [
       "<div>\n",
       "<style scoped>\n",
       "    .dataframe tbody tr th:only-of-type {\n",
       "        vertical-align: middle;\n",
       "    }\n",
       "\n",
       "    .dataframe tbody tr th {\n",
       "        vertical-align: top;\n",
       "    }\n",
       "\n",
       "    .dataframe thead th {\n",
       "        text-align: right;\n",
       "    }\n",
       "</style>\n",
       "<table border=\"1\" class=\"dataframe\">\n",
       "  <thead>\n",
       "    <tr style=\"text-align: right;\">\n",
       "      <th></th>\n",
       "      <th>bathrooms</th>\n",
       "      <th>bedrooms</th>\n",
       "      <th>price</th>\n",
       "      <th>price_bathrooms</th>\n",
       "      <th>price_bedrooms</th>\n",
       "      <th>room_diff</th>\n",
       "      <th>room_num</th>\n",
       "      <th>Year</th>\n",
       "      <th>Month</th>\n",
       "      <th>Day</th>\n",
       "      <th>...</th>\n",
       "      <th>virtual</th>\n",
       "      <th>walk</th>\n",
       "      <th>walls</th>\n",
       "      <th>war</th>\n",
       "      <th>washer</th>\n",
       "      <th>water</th>\n",
       "      <th>wheelchair</th>\n",
       "      <th>wifi</th>\n",
       "      <th>windows</th>\n",
       "      <th>work</th>\n",
       "    </tr>\n",
       "  </thead>\n",
       "  <tbody>\n",
       "    <tr>\n",
       "      <th>0</th>\n",
       "      <td>1.0</td>\n",
       "      <td>1</td>\n",
       "      <td>2950</td>\n",
       "      <td>1475.000000</td>\n",
       "      <td>1475.000000</td>\n",
       "      <td>0.0</td>\n",
       "      <td>2.0</td>\n",
       "      <td>2016</td>\n",
       "      <td>6</td>\n",
       "      <td>11</td>\n",
       "      <td>...</td>\n",
       "      <td>0</td>\n",
       "      <td>0</td>\n",
       "      <td>0</td>\n",
       "      <td>0</td>\n",
       "      <td>0</td>\n",
       "      <td>0</td>\n",
       "      <td>0</td>\n",
       "      <td>0</td>\n",
       "      <td>0</td>\n",
       "      <td>0</td>\n",
       "    </tr>\n",
       "    <tr>\n",
       "      <th>1</th>\n",
       "      <td>1.0</td>\n",
       "      <td>2</td>\n",
       "      <td>2850</td>\n",
       "      <td>1425.000000</td>\n",
       "      <td>950.000000</td>\n",
       "      <td>-1.0</td>\n",
       "      <td>3.0</td>\n",
       "      <td>2016</td>\n",
       "      <td>6</td>\n",
       "      <td>24</td>\n",
       "      <td>...</td>\n",
       "      <td>0</td>\n",
       "      <td>0</td>\n",
       "      <td>0</td>\n",
       "      <td>1</td>\n",
       "      <td>0</td>\n",
       "      <td>0</td>\n",
       "      <td>0</td>\n",
       "      <td>0</td>\n",
       "      <td>0</td>\n",
       "      <td>0</td>\n",
       "    </tr>\n",
       "    <tr>\n",
       "      <th>2</th>\n",
       "      <td>1.0</td>\n",
       "      <td>1</td>\n",
       "      <td>3758</td>\n",
       "      <td>1879.000000</td>\n",
       "      <td>1879.000000</td>\n",
       "      <td>0.0</td>\n",
       "      <td>2.0</td>\n",
       "      <td>2016</td>\n",
       "      <td>6</td>\n",
       "      <td>3</td>\n",
       "      <td>...</td>\n",
       "      <td>0</td>\n",
       "      <td>0</td>\n",
       "      <td>0</td>\n",
       "      <td>0</td>\n",
       "      <td>0</td>\n",
       "      <td>0</td>\n",
       "      <td>0</td>\n",
       "      <td>0</td>\n",
       "      <td>0</td>\n",
       "      <td>0</td>\n",
       "    </tr>\n",
       "    <tr>\n",
       "      <th>3</th>\n",
       "      <td>1.0</td>\n",
       "      <td>2</td>\n",
       "      <td>3300</td>\n",
       "      <td>1650.000000</td>\n",
       "      <td>1100.000000</td>\n",
       "      <td>-1.0</td>\n",
       "      <td>3.0</td>\n",
       "      <td>2016</td>\n",
       "      <td>6</td>\n",
       "      <td>11</td>\n",
       "      <td>...</td>\n",
       "      <td>0</td>\n",
       "      <td>0</td>\n",
       "      <td>0</td>\n",
       "      <td>0</td>\n",
       "      <td>0</td>\n",
       "      <td>0</td>\n",
       "      <td>1</td>\n",
       "      <td>0</td>\n",
       "      <td>0</td>\n",
       "      <td>0</td>\n",
       "    </tr>\n",
       "    <tr>\n",
       "      <th>4</th>\n",
       "      <td>2.0</td>\n",
       "      <td>2</td>\n",
       "      <td>4900</td>\n",
       "      <td>1633.333333</td>\n",
       "      <td>1633.333333</td>\n",
       "      <td>0.0</td>\n",
       "      <td>4.0</td>\n",
       "      <td>2016</td>\n",
       "      <td>4</td>\n",
       "      <td>12</td>\n",
       "      <td>...</td>\n",
       "      <td>0</td>\n",
       "      <td>0</td>\n",
       "      <td>0</td>\n",
       "      <td>1</td>\n",
       "      <td>0</td>\n",
       "      <td>0</td>\n",
       "      <td>0</td>\n",
       "      <td>0</td>\n",
       "      <td>0</td>\n",
       "      <td>0</td>\n",
       "    </tr>\n",
       "  </tbody>\n",
       "</table>\n",
       "<p>5 rows × 227 columns</p>\n",
       "</div>"
      ],
      "text/plain": [
       "   bathrooms  bedrooms  price  price_bathrooms  price_bedrooms  room_diff  \\\n",
       "0        1.0         1   2950      1475.000000     1475.000000        0.0   \n",
       "1        1.0         2   2850      1425.000000      950.000000       -1.0   \n",
       "2        1.0         1   3758      1879.000000     1879.000000        0.0   \n",
       "3        1.0         2   3300      1650.000000     1100.000000       -1.0   \n",
       "4        2.0         2   4900      1633.333333     1633.333333        0.0   \n",
       "\n",
       "   room_num  Year  Month  Day  ...   virtual  walk  walls  war  washer  water  \\\n",
       "0       2.0  2016      6   11  ...         0     0      0    0       0      0   \n",
       "1       3.0  2016      6   24  ...         0     0      0    1       0      0   \n",
       "2       2.0  2016      6    3  ...         0     0      0    0       0      0   \n",
       "3       3.0  2016      6   11  ...         0     0      0    0       0      0   \n",
       "4       4.0  2016      4   12  ...         0     0      0    1       0      0   \n",
       "\n",
       "   wheelchair  wifi  windows  work  \n",
       "0           0     0        0     0  \n",
       "1           0     0        0     0  \n",
       "2           0     0        0     0  \n",
       "3           1     0        0     0  \n",
       "4           0     0        0     0  \n",
       "\n",
       "[5 rows x 227 columns]"
      ]
     },
     "execution_count": 6,
     "metadata": {},
     "output_type": "execute_result"
    }
   ],
   "source": [
    "dtest.head()"
   ]
  },
  {
   "cell_type": "code",
   "execution_count": 7,
   "metadata": {},
   "outputs": [
    {
     "name": "stdout",
     "output_type": "stream",
     "text": [
      "训练集中是否有空缺值： False\n",
      "测试集中是否有空缺值： True\n"
     ]
    }
   ],
   "source": [
    "# 检查数据集中是否有缺失值\n",
    "\n",
    "print('训练集中是否有空缺值：',dtrain.isnull().any().any())\n",
    "print('测试集中是否有空缺值：',dtest.isnull().any().any())"
   ]
  },
  {
   "cell_type": "code",
   "execution_count": 8,
   "metadata": {},
   "outputs": [
    {
     "data": {
      "text/plain": [
       "False"
      ]
     },
     "execution_count": 8,
     "metadata": {},
     "output_type": "execute_result"
    }
   ],
   "source": [
    "# 测试集中有缺失值，把缺失值补为0\n",
    "\n",
    "dtest =  dtest.fillna(0)\n",
    "dtest.isnull().any().any()"
   ]
  },
  {
   "cell_type": "code",
   "execution_count": 9,
   "metadata": {},
   "outputs": [
    {
     "data": {
      "image/png": "[encoded data removed]",
      "text/plain": [
       "<matplotlib.figure.Figure at 0xb143588>"
      ]
     },
     "metadata": {},
     "output_type": "display_data"
    }
   ],
   "source": [
    "# 查看训练集中的类别标签 interest_level \n",
    "\n",
    "count_level = dtrain['interest_level'].value_counts() \n",
    "\n",
    "plt.figure(figsize=(8,4))\n",
    "sns.barplot(count_level.index,count_level.values,alpha=0.8)\n",
    "plt.ylabel('Number of Occurrences',fontsize=12)\n",
    "plt.xlabel('Interest level',fontsize=12)\n",
    "plt.show()\n",
    "\n",
    "# 有三个类别特征，分布不均衡。类别标签2的分布最大。"
   ]
  },
  {
   "cell_type": "code",
   "execution_count": 10,
   "metadata": {},
   "outputs": [],
   "source": [
    "# 把训练集数据分割为输入特征和类别标签\n",
    "\n",
    "y_train = dtrain['interest_level']\n",
    "X_train = dtrain.drop('interest_level',axis=1)\n",
    "\n",
    "# 测试集数据没有类别标签\n",
    "X_test = dtest\n",
    "\n",
    "# 决策树、xgboost主要处理特征的分布和特征之间的条件概率，不需要对输入特征做归一化处理，因此后面直接用原始数据进行分类"
   ]
  },
  {
   "cell_type": "markdown",
   "metadata": {},
   "source": [
    "--------------------------------------------------------------------------------\n",
    "# 2.  用默认的xgboost进行分类 (default xgboost)"
   ]
  },
  {
   "cell_type": "code",
   "execution_count": 11,
   "metadata": {},
   "outputs": [
    {
     "name": "stdout",
     "output_type": "stream",
     "text": [
      "AUC of default xgboost:  0.6890133605692628\n"
     ]
    }
   ],
   "source": [
    "from xgboost import XGBClassifier\n",
    "\n",
    "model_XGB = XGBClassifier()\n",
    "model_XGB.fit(X_train,y_train)\n",
    "\n",
    "# 用类别标签中概率最大的类别标签2，对训练集检验分类准确率 (测试集没有类别标签，无法检验)\n",
    "y_prob = model_XGB.predict_proba(X_train)[:,2]                                               \n",
    "y_pred = np.where(y_prob > 0.5, 1, 0)       \n",
    "\n",
    "# 把训练集的类别标签转化为二分类，方便与预测值比较\n",
    "y_train_2 = np.zeros((len(y_train),1))\n",
    "for i in range(len(y_train)):\n",
    "    if y_train[i] != 2:\n",
    "        y_train_2[i] = 0\n",
    "    else:\n",
    "        y_train_2[i] = 1\n",
    "        \n",
    "print('AUC of default xgboost: ',roc_auc_score(y_train_2,y_pred))"
   ]
  },
  {
   "cell_type": "code",
   "execution_count": 12,
   "metadata": {},
   "outputs": [
    {
     "name": "stdout",
     "output_type": "stream",
     "text": [
      "重要性不为0的特征个数： 71\n"
     ]
    },
    {
     "data": {
      "text/html": [
       "<div>\n",
       "<style scoped>\n",
       "    .dataframe tbody tr th:only-of-type {\n",
       "        vertical-align: middle;\n",
       "    }\n",
       "\n",
       "    .dataframe tbody tr th {\n",
       "        vertical-align: top;\n",
       "    }\n",
       "\n",
       "    .dataframe thead th {\n",
       "        text-align: right;\n",
       "    }\n",
       "</style>\n",
       "<table border=\"1\" class=\"dataframe\">\n",
       "  <thead>\n",
       "    <tr style=\"text-align: right;\">\n",
       "      <th></th>\n",
       "      <th>columns</th>\n",
       "      <th>importance</th>\n",
       "    </tr>\n",
       "  </thead>\n",
       "  <tbody>\n",
       "    <tr>\n",
       "      <th>4</th>\n",
       "      <td>price_bedrooms</td>\n",
       "      <td>0.148204</td>\n",
       "    </tr>\n",
       "    <tr>\n",
       "      <th>2</th>\n",
       "      <td>price</td>\n",
       "      <td>0.124251</td>\n",
       "    </tr>\n",
       "    <tr>\n",
       "      <th>12</th>\n",
       "      <td>hour</td>\n",
       "      <td>0.080838</td>\n",
       "    </tr>\n",
       "    <tr>\n",
       "      <th>23</th>\n",
       "      <td>distance</td>\n",
       "      <td>0.076846</td>\n",
       "    </tr>\n",
       "    <tr>\n",
       "      <th>3</th>\n",
       "      <td>price_bathrooms</td>\n",
       "      <td>0.073852</td>\n",
       "    </tr>\n",
       "    <tr>\n",
       "      <th>22</th>\n",
       "      <td>cenroid</td>\n",
       "      <td>0.064371</td>\n",
       "    </tr>\n",
       "    <tr>\n",
       "      <th>96</th>\n",
       "      <td>fee</td>\n",
       "      <td>0.047904</td>\n",
       "    </tr>\n",
       "    <tr>\n",
       "      <th>26</th>\n",
       "      <td>display_address_pred_2</td>\n",
       "      <td>0.038423</td>\n",
       "    </tr>\n",
       "    <tr>\n",
       "      <th>9</th>\n",
       "      <td>Day</td>\n",
       "      <td>0.027944</td>\n",
       "    </tr>\n",
       "    <tr>\n",
       "      <th>11</th>\n",
       "      <td>Yday</td>\n",
       "      <td>0.023952</td>\n",
       "    </tr>\n",
       "    <tr>\n",
       "      <th>106</th>\n",
       "      <td>furnished</td>\n",
       "      <td>0.021956</td>\n",
       "    </tr>\n",
       "    <tr>\n",
       "      <th>184</th>\n",
       "      <td>simplex</td>\n",
       "      <td>0.019960</td>\n",
       "    </tr>\n",
       "    <tr>\n",
       "      <th>24</th>\n",
       "      <td>display_address_pred_0</td>\n",
       "      <td>0.019461</td>\n",
       "    </tr>\n",
       "    <tr>\n",
       "      <th>101</th>\n",
       "      <td>floors</td>\n",
       "      <td>0.015968</td>\n",
       "    </tr>\n",
       "    <tr>\n",
       "      <th>128</th>\n",
       "      <td>laundry</td>\n",
       "      <td>0.013972</td>\n",
       "    </tr>\n",
       "    <tr>\n",
       "      <th>5</th>\n",
       "      <td>room_diff</td>\n",
       "      <td>0.011976</td>\n",
       "    </tr>\n",
       "    <tr>\n",
       "      <th>25</th>\n",
       "      <td>display_address_pred_1</td>\n",
       "      <td>0.011477</td>\n",
       "    </tr>\n",
       "    <tr>\n",
       "      <th>164</th>\n",
       "      <td>private</td>\n",
       "      <td>0.010479</td>\n",
       "    </tr>\n",
       "    <tr>\n",
       "      <th>1</th>\n",
       "      <td>bedrooms</td>\n",
       "      <td>0.009980</td>\n",
       "    </tr>\n",
       "    <tr>\n",
       "      <th>188</th>\n",
       "      <td>space</td>\n",
       "      <td>0.009481</td>\n",
       "    </tr>\n",
       "  </tbody>\n",
       "</table>\n",
       "</div>"
      ],
      "text/plain": [
       "                    columns  importance\n",
       "4            price_bedrooms    0.148204\n",
       "2                     price    0.124251\n",
       "12                     hour    0.080838\n",
       "23                 distance    0.076846\n",
       "3           price_bathrooms    0.073852\n",
       "22                  cenroid    0.064371\n",
       "96                      fee    0.047904\n",
       "26   display_address_pred_2    0.038423\n",
       "9                       Day    0.027944\n",
       "11                     Yday    0.023952\n",
       "106               furnished    0.021956\n",
       "184                 simplex    0.019960\n",
       "24   display_address_pred_0    0.019461\n",
       "101                  floors    0.015968\n",
       "128                 laundry    0.013972\n",
       "5                 room_diff    0.011976\n",
       "25   display_address_pred_1    0.011477\n",
       "164                 private    0.010479\n",
       "1                  bedrooms    0.009980\n",
       "188                   space    0.009481"
      ]
     },
     "execution_count": 12,
     "metadata": {},
     "output_type": "execute_result"
    }
   ],
   "source": [
    "# 查看特征重要性\n",
    "\n",
    "columns = X_train.columns\n",
    "df = pd.DataFrame({\"columns\":list(columns), \"importance\":list(model_XGB.feature_importances_.T)})\n",
    "print('重要性不为0的特征个数：', (df['importance']!=0).sum())\n",
    "\n",
    "df.sort_values(by=['importance'],ascending=False)[:20]\n",
    "\n",
    "# 有71个特征的重要性不为0"
   ]
  },
  {
   "cell_type": "code",
   "execution_count": 13,
   "metadata": {},
   "outputs": [
    {
     "data": {
      "image/png": "[encoded data removed]",
      "text/plain": [
       "<matplotlib.figure.Figure at 0xb273fd0>"
      ]
     },
     "metadata": {},
     "output_type": "display_data"
    }
   ],
   "source": [
    "# 画出最重要的20个特征\n",
    "\n",
    "from xgboost import plot_importance\n",
    "plot_importance(model_XGB,max_num_features=20) \n",
    "plt.show()"
   ]
  },
  {
   "cell_type": "code",
   "execution_count": 14,
   "metadata": {},
   "outputs": [
    {
     "name": "stdout",
     "output_type": "stream",
     "text": [
      "Thresh=0.000,n=227,accuracy: 73.70%\n",
      "Thresh=0.000,n=227,accuracy: 73.70%\n",
      "Thresh=0.000,n=227,accuracy: 73.70%\n",
      "Thresh=0.000,n=227,accuracy: 73.70%\n",
      "Thresh=0.000,n=227,accuracy: 73.70%\n",
      "Thresh=0.000,n=227,accuracy: 73.70%\n",
      "Thresh=0.000,n=227,accuracy: 73.70%\n",
      "Thresh=0.000,n=227,accuracy: 73.70%\n",
      "Thresh=0.000,n=227,accuracy: 73.70%\n",
      "Thresh=0.000,n=71,accuracy: 73.70%\n",
      "Thresh=0.000,n=71,accuracy: 73.70%\n",
      "Thresh=0.000,n=71,accuracy: 73.70%\n",
      "Thresh=0.000,n=71,accuracy: 73.70%\n",
      "Thresh=0.000,n=71,accuracy: 73.70%\n",
      "Thresh=0.000,n=71,accuracy: 73.70%\n",
      "Thresh=0.000,n=71,accuracy: 73.70%\n",
      "Thresh=0.000,n=71,accuracy: 73.70%\n",
      "Thresh=0.000,n=71,accuracy: 73.70%\n",
      "Thresh=0.001,n=62,accuracy: 73.61%\n",
      "Thresh=0.001,n=62,accuracy: 73.61%\n",
      "Thresh=0.001,n=62,accuracy: 73.61%\n",
      "Thresh=0.001,n=62,accuracy: 73.61%\n",
      "Thresh=0.001,n=62,accuracy: 73.61%\n",
      "Thresh=0.001,n=62,accuracy: 73.61%\n",
      "Thresh=0.001,n=62,accuracy: 73.61%\n",
      "Thresh=0.001,n=62,accuracy: 73.61%\n",
      "Thresh=0.001,n=62,accuracy: 73.61%\n",
      "Thresh=0.001,n=53,accuracy: 73.64%\n",
      "Thresh=0.001,n=53,accuracy: 73.64%\n",
      "Thresh=0.001,n=53,accuracy: 73.64%\n",
      "Thresh=0.001,n=53,accuracy: 73.64%\n",
      "Thresh=0.001,n=53,accuracy: 73.64%\n",
      "Thresh=0.001,n=53,accuracy: 73.64%\n",
      "Thresh=0.002,n=47,accuracy: 73.68%\n",
      "Thresh=0.002,n=47,accuracy: 73.68%\n",
      "Thresh=0.002,n=47,accuracy: 73.68%\n",
      "Thresh=0.002,n=47,accuracy: 73.68%\n",
      "Thresh=0.002,n=47,accuracy: 73.68%\n",
      "Thresh=0.002,n=42,accuracy: 73.67%\n",
      "Thresh=0.002,n=42,accuracy: 73.67%\n",
      "Thresh=0.003,n=40,accuracy: 73.67%\n",
      "Thresh=0.003,n=39,accuracy: 73.74%\n",
      "Thresh=0.003,n=39,accuracy: 73.74%\n",
      "Thresh=0.004,n=37,accuracy: 73.62%\n",
      "Thresh=0.004,n=37,accuracy: 73.62%\n",
      "Thresh=0.004,n=37,accuracy: 73.62%\n",
      "Thresh=0.004,n=37,accuracy: 73.62%\n",
      "Thresh=0.004,n=37,accuracy: 73.62%\n",
      "Thresh=0.005,n=32,accuracy: 73.71%\n",
      "Thresh=0.005,n=32,accuracy: 73.71%\n",
      "Thresh=0.005,n=30,accuracy: 73.65%\n",
      "Thresh=0.006,n=29,accuracy: 73.64%\n",
      "Thresh=0.006,n=29,accuracy: 73.64%\n",
      "Thresh=0.006,n=29,accuracy: 73.64%\n",
      "Thresh=0.007,n=26,accuracy: 73.65%\n",
      "Thresh=0.007,n=25,accuracy: 73.55%\n",
      "Thresh=0.007,n=25,accuracy: 73.55%\n",
      "Thresh=0.007,n=25,accuracy: 73.55%\n",
      "Thresh=0.009,n=22,accuracy: 73.52%\n",
      "Thresh=0.009,n=21,accuracy: 73.58%\n",
      "Thresh=0.009,n=21,accuracy: 73.58%\n",
      "Thresh=0.010,n=19,accuracy: 73.59%\n",
      "Thresh=0.010,n=18,accuracy: 73.53%\n",
      "Thresh=0.011,n=17,accuracy: 73.41%\n",
      "Thresh=0.012,n=16,accuracy: 73.40%\n",
      "Thresh=0.014,n=15,accuracy: 73.18%\n",
      "Thresh=0.016,n=14,accuracy: 73.39%\n",
      "Thresh=0.019,n=13,accuracy: 73.27%\n",
      "Thresh=0.020,n=12,accuracy: 73.30%\n",
      "Thresh=0.022,n=11,accuracy: 73.12%\n",
      "Thresh=0.024,n=10,accuracy: 73.13%\n",
      "Thresh=0.028,n=9,accuracy: 73.02%\n",
      "Thresh=0.038,n=8,accuracy: 72.96%\n",
      "Thresh=0.048,n=7,accuracy: 72.77%\n",
      "Thresh=0.064,n=6,accuracy: 72.02%\n",
      "Thresh=0.074,n=5,accuracy: 71.87%\n",
      "Thresh=0.077,n=4,accuracy: 71.98%\n",
      "Thresh=0.081,n=3,accuracy: 71.20%\n",
      "Thresh=0.124,n=2,accuracy: 70.61%\n",
      "Thresh=0.148,n=1,accuracy: 70.05%\n"
     ]
    }
   ],
   "source": [
    "# 根据特征重要性进行特征选择\n",
    "\n",
    "from xgboost import XGBClassifier\n",
    "from sklearn.feature_selection import SelectFromModel\n",
    "\n",
    "thresholds = np.sort(model_XGB.feature_importances_)[-80:] # 227个特征中，只有71个特征的重要性不为0。为了减少运行时间，计算后面80个数。 \n",
    "for thresh in thresholds:\n",
    "    selection = SelectFromModel(model_XGB,threshold=thresh,prefit=True) \n",
    "    select_X_train = selection.transform(X_train)\n",
    "    \n",
    "    selection_model = XGBClassifier()\n",
    "    selection_model.fit(select_X_train,y_train)\n",
    "    \n",
    "    y_pred = selection_model.predict(select_X_train)\n",
    "    \n",
    "    predictions = [round(value) for value in y_pred]\n",
    "    accuracy = accuracy_score(y_train,predictions)\n",
    "    print('Thresh=%.3f,n=%d,accuracy: %.2f%%'%(thresh,select_X_train.shape[1],accuracy*100.0))\n"
   ]
  },
  {
   "cell_type": "code",
   "execution_count": 15,
   "metadata": {},
   "outputs": [
    {
     "data": {
      "text/plain": [
       "XGBClassifier(base_score=0.5, booster='gbtree', colsample_bylevel=1,\n",
       "       colsample_bytree=1, gamma=0, learning_rate=0.1, max_delta_step=0,\n",
       "       max_depth=3, min_child_weight=1, missing=None, n_estimators=100,\n",
       "       n_jobs=1, nthread=None, objective='multi:softprob', random_state=0,\n",
       "       reg_alpha=0, reg_lambda=1, scale_pos_weight=1, seed=None,\n",
       "       silent=True, subsample=1)"
      ]
     },
     "execution_count": 15,
     "metadata": {},
     "output_type": "execute_result"
    }
   ],
   "source": [
    "# 用最佳阈值训练模型\n",
    "\n",
    "thresh = 0.020   # 从上面数据中选择\n",
    "selection = SelectFromModel(model_XGB, threshold=thresh, prefit=True)\n",
    "select_X_train = selection.transform(X_train)\n",
    "\n",
    "selection_model = XGBClassifier()\n",
    "selection_model.fit(select_X_train, y_train)"
   ]
  },
  {
   "cell_type": "markdown",
   "metadata": {},
   "source": [
    "小结：   \n",
    "1) 用默认的xgboost对训练数据进行分类，用predict_proba()进行预测，把训练集的类别标签转化为二分类，得到的roc_auc_score=0.6890。    \n",
    "2) 用xgb.feature_importances_查看特征重要性，得到在227个输入特征中，只有71个输入特征的重要性不为0。因此大部分的输入特征对分类结果不起作用。\n"
   ]
  },
  {
   "cell_type": "markdown",
   "metadata": {},
   "source": [
    "--------------------------------------------------------------------------------------------\n",
    "# 3.  直接调用xgboost内嵌的cv寻找最佳的参数n_estimators"
   ]
  },
  {
   "cell_type": "code",
   "execution_count": 16,
   "metadata": {},
   "outputs": [
    {
     "data": {
      "text/plain": [
       "(10000, 71)"
      ]
     },
     "execution_count": 16,
     "metadata": {},
     "output_type": "execute_result"
    }
   ],
   "source": [
    "# 上面特征重要性结果表明，在227个输入特征中，只有71个输入特征的重要性不为0，大部分的输入特征对分类结果不起作用。\n",
    "# 因此为了提高程序运行速度，只选取重要性不为0的61个输入特进行分类参数调优。\n",
    "\n",
    "Xcolumns = df[(df['importance']!=0)]['columns'].values\n",
    "X_train = X_train[Xcolumns]\n",
    "X_train.shape"
   ]
  },
  {
   "cell_type": "code",
   "execution_count": 17,
   "metadata": {},
   "outputs": [],
   "source": [
    "# 交叉验证\n",
    "\n",
    "kfold = StratifiedKFold(n_splits=5, shuffle=True, random_state=3)"
   ]
  },
  {
   "cell_type": "code",
   "execution_count": 18,
   "metadata": {},
   "outputs": [],
   "source": [
    "#直接调用xgboost内嵌的交叉验证（cv），可对连续的n_estimators参数进行快速交叉验证\n",
    "\n",
    "def modelfit (alg, X_train, y_train, cv_folds=kfold, early_stopping_rounds=20):    # alg = xgb1\n",
    "    xgb_param = alg.get_xgb_params()\n",
    "    xgb_param['num_class'] = 3\n",
    "    \n",
    "    xgtrain = xgb.DMatrix(X_train, label = y_train)\n",
    "    \n",
    "    cvresult = xgb.cv(xgb_param, xgtrain, num_boost_round=alg.get_params()['n_estimators'], \n",
    "                      folds =cv_folds, metrics='mlogloss', early_stopping_rounds=early_stopping_rounds)\n",
    "    \n",
    "    cvresult.to_csv('1_nestimators.csv', index_label = 'n_estimators')\n",
    "    \n",
    "    n_estimators = cvresult.shape[0]              # 最佳参数n_estimators\n",
    "    alg.set_params(n_estimators = n_estimators)   #用交叉验证得到的最佳参数n_estimators训练模型\n",
    "    alg.fit(X_train, y_train, eval_metric='mlogloss')\n",
    "    \n",
    "    # 预测训练集的logloss\n",
    "    train_predprob = alg.predict_proba(X_train)\n",
    "    logloss = log_loss(y_train, train_predprob)\n",
    "    \n",
    "    print('best n_estimators :',n_estimators)\n",
    "    print('min logloss of train :',logloss)\n"
   ]
  },
  {
   "cell_type": "code",
   "execution_count": 19,
   "metadata": {},
   "outputs": [
    {
     "name": "stdout",
     "output_type": "stream",
     "text": [
      "best n_estimators : 122\n",
      "min logloss of train : 0.4814710312674753\n"
     ]
    }
   ],
   "source": [
    "# 设置xgb的初始参数，调用上面函数求最佳的n_estimators\n",
    "\n",
    "xgb1 = XGBClassifier(\n",
    "        learning_rate =0.1,\n",
    "        n_estimators=1000,   \n",
    "        max_depth=5,\n",
    "        min_child_weight=1,\n",
    "        gamma=0,\n",
    "        subsample=0.3,\n",
    "        colsample_bytree=0.8,\n",
    "        colsample_bylevel=0.7,\n",
    "        objective= 'multi:softprob',\n",
    "        seed=3)\n",
    "\n",
    "modelfit(xgb1, X_train, y_train, cv_folds = kfold) \n"
   ]
  },
  {
   "cell_type": "code",
   "execution_count": 20,
   "metadata": {},
   "outputs": [
    {
     "name": "stdout",
     "output_type": "stream",
     "text": [
      "最小的test-mlogloss-mean : 0.6236740000000001\n",
      "最小的train-mlogloss-mean : 0.448496\n"
     ]
    },
    {
     "data": {
      "text/plain": [
       "Text(0,0.5,'Log Loss')"
      ]
     },
     "execution_count": 20,
     "metadata": {},
     "output_type": "execute_result"
    },
    {
     "data": {
      "image/png": "[encoded data removed]",
      "text/plain": [
       "<matplotlib.figure.Figure at 0xb2f32b0>"
      ]
     },
     "metadata": {},
     "output_type": "display_data"
    }
   ],
   "source": [
    "# 画图 n_estimators与Log Loss的关系\n",
    "\n",
    "cvresult = pd.read_csv('1_nestimators.csv')  \n",
    "\n",
    "print('最小的test-mlogloss-mean :',cvresult['test-mlogloss-mean'].values[-1])  \n",
    "print('最小的train-mlogloss-mean :',cvresult['train-mlogloss-mean'].values[-1])  \n",
    "\n",
    "test_means = cvresult['test-mlogloss-mean']\n",
    "test_stds = cvresult['test-mlogloss-std'] \n",
    "train_means = cvresult['train-mlogloss-mean']\n",
    "train_stds = cvresult['train-mlogloss-std'] \n",
    "\n",
    "x_axis = range(0, cvresult.shape[0])\n",
    "\n",
    "plt.errorbar(x_axis, test_means, yerr=test_stds ,label='Test')\n",
    "plt.errorbar(x_axis, train_means, yerr=train_stds ,label='Train')\n",
    "plt.legend()\n",
    "plt.title(\"XGBoost n_estimators vs Log Loss\")\n",
    "plt.xlabel( 'n_estimators' )\n",
    "plt.ylabel( 'Log Loss' )\n"
   ]
  },
  {
   "cell_type": "markdown",
   "metadata": {},
   "source": [
    "小结：  \n",
    "1) 直接调用xgboost内嵌的cv找到的最佳的参数n_estimators=122。      \n",
    "2) 最小交叉验证测试误差：0.6237，训练误差: 0.4485。两者差异较大。"
   ]
  },
  {
   "cell_type": "markdown",
   "metadata": {},
   "source": [
    "--------------------------------------------------------------------------------------------\n",
    "# 4.  调整树的参数：max_depth & min_child_weight"
   ]
  },
  {
   "cell_type": "code",
   "execution_count": 21,
   "metadata": {},
   "outputs": [
    {
     "data": {
      "text/plain": [
       "{'max_depth': [3, 5, 7, 9], 'min_child_weight': [1, 3, 5]}"
      ]
     },
     "execution_count": 21,
     "metadata": {},
     "output_type": "execute_result"
    }
   ],
   "source": [
    "# 设置max_depth和min_child_weight的范围 \n",
    "\n",
    "max_depth = [i for i in range(3,10,2)]\n",
    "min_child_weight = [i for i in range(1,6,2)]\n",
    "\n",
    "param_test2_1 = dict(max_depth=max_depth, min_child_weight=min_child_weight)\n",
    "param_test2_1\n"
   ]
  },
  {
   "cell_type": "code",
   "execution_count": 22,
   "metadata": {},
   "outputs": [
    {
     "data": {
      "text/plain": [
       "([mean: -0.62666, std: 0.00295, params: {'max_depth': 3, 'min_child_weight': 1},\n",
       "  mean: -0.62705, std: 0.00264, params: {'max_depth': 3, 'min_child_weight': 3},\n",
       "  mean: -0.62816, std: 0.00350, params: {'max_depth': 3, 'min_child_weight': 5},\n",
       "  mean: -0.62675, std: 0.00658, params: {'max_depth': 5, 'min_child_weight': 1},\n",
       "  mean: -0.62658, std: 0.00546, params: {'max_depth': 5, 'min_child_weight': 3},\n",
       "  mean: -0.62685, std: 0.00356, params: {'max_depth': 5, 'min_child_weight': 5},\n",
       "  mean: -0.63793, std: 0.01018, params: {'max_depth': 7, 'min_child_weight': 1},\n",
       "  mean: -0.63588, std: 0.00841, params: {'max_depth': 7, 'min_child_weight': 3},\n",
       "  mean: -0.63193, std: 0.00702, params: {'max_depth': 7, 'min_child_weight': 5},\n",
       "  mean: -0.65582, std: 0.01137, params: {'max_depth': 9, 'min_child_weight': 1},\n",
       "  mean: -0.64638, std: 0.00985, params: {'max_depth': 9, 'min_child_weight': 3},\n",
       "  mean: -0.63771, std: 0.01008, params: {'max_depth': 9, 'min_child_weight': 5}],\n",
       " {'max_depth': 5, 'min_child_weight': 3},\n",
       " -0.6265826640208368)"
      ]
     },
     "execution_count": 22,
     "metadata": {},
     "output_type": "execute_result"
    }
   ],
   "source": [
    "# 设置xgb的参数，n_estimators为第一轮参数调整得到的最优值 \n",
    "\n",
    "xgb2_1 = XGBClassifier(\n",
    "        learning_rate =0.1,\n",
    "        n_estimators=122,                 # 第一轮参数调整得到的n_estimators最优值\n",
    "        max_depth=5,\n",
    "        min_child_weight=1,\n",
    "        gamma=0,\n",
    "        subsample=0.3,\n",
    "        colsample_bytree=0.8,\n",
    "        colsample_bylevel = 0.7,\n",
    "        objective= 'multi:softprob',\n",
    "        seed=3) \n",
    "\n",
    "gsearch2_1 = GridSearchCV(xgb2_1, param_grid = param_test2_1, scoring='neg_log_loss',n_jobs=-1, cv=kfold)\n",
    "gsearch2_1.fit(X_train , y_train)\n",
    "\n",
    "gsearch2_1.grid_scores_,    gsearch2_1.best_params_,  gsearch2_1.best_score_"
   ]
  },
  {
   "cell_type": "code",
   "execution_count": 24,
   "metadata": {},
   "outputs": [
    {
     "name": "stdout",
     "output_type": "stream",
     "text": [
      "Best score is -0.626583 by using parameters of {'max_depth': 5, 'min_child_weight': 3}\n"
     ]
    },
    {
     "data": {
      "text/plain": [
       "Text(0,0.5,'Log Loss')"
      ]
     },
     "execution_count": 24,
     "metadata": {},
     "output_type": "execute_result"
    },
    {
     "data": {
      "image/png": "[encoded data removed]",
      "text/plain": [
       "<matplotlib.figure.Figure at 0xb2f3dd8>"
      ]
     },
     "metadata": {},
     "output_type": "display_data"
    }
   ],
   "source": [
    "# 结果汇总\n",
    "\n",
    "print(\"Best score is %f by using parameters of %s\" % (gsearch2_1.best_score_, gsearch2_1.best_params_))\n",
    "\n",
    "test_means = gsearch2_1.cv_results_[ 'mean_test_score' ]\n",
    "test_stds = gsearch2_1.cv_results_[ 'std_test_score' ]\n",
    "train_means = gsearch2_1.cv_results_[ 'mean_train_score' ]\n",
    "train_stds = gsearch2_1.cv_results_[ 'std_train_score' ]\n",
    "pd.DataFrame(gsearch2_1.cv_results_).to_csv('maxdepth_minchildweights_1.csv')\n",
    "\n",
    "# 数据转化为矩阵，行对应于max_depth，列对应于min_child_weight\n",
    "test_scores = np.array(test_means).reshape(len(max_depth), len(min_child_weight))\n",
    "train_scores = np.array(train_means).reshape(len(max_depth), len(min_child_weight))\n",
    "\n",
    "#  画图: max_depth与Log Loss的关系\n",
    "fig = plt.figure(figsize=(12,5))\n",
    "plt.subplot(121)\n",
    "for i, value in enumerate(min_child_weight):\n",
    "#    plt.plot(max_depth, -train_scores[:,i], label= 'train - min_child_weight: '   + str(value))\n",
    "    plt.plot(max_depth, -test_scores[:,i], label= 'test - min_child_weight: '   + str(value))\n",
    "plt.legend()\n",
    "plt.xlabel('max_depth')                                                                                                      \n",
    "plt.ylabel('Log Loss')\n",
    "\n",
    "#  画图: min_child_weight与Log Loss的关系\n",
    "plt.subplot(122)\n",
    "for i, value in enumerate(max_depth):\n",
    "#    plt.plot(min_child_weight, -train_scores[i], label= 'train - max_depth: '   + str(value))\n",
    "    plt.plot(min_child_weight, -test_scores[i], label= 'test - max_depth: '   + str(value))   \n",
    "plt.legend()\n",
    "plt.xlabel( 'min_child_weight' )                                                                                                      \n",
    "plt.ylabel( 'Log Loss' )\n"
   ]
  },
  {
   "cell_type": "markdown",
   "metadata": {},
   "source": [
    "小结：    \n",
    "1) 对树参数max_depth 和 min_child_weight进行优化，在max_depth=5和min_child_weight=3的情况下，得到的最小交叉验证测试误差为：0.6266。"
   ]
  },
  {
   "cell_type": "markdown",
   "metadata": {},
   "source": [
    "----------------------------------------------------------------------------------\n",
    "# 5.  调整max_depth和min_child_weight之后再次调整n_estimators"
   ]
  },
  {
   "cell_type": "code",
   "execution_count": 25,
   "metadata": {},
   "outputs": [],
   "source": [
    "# 基于上面的优化参数max_depth和min_child_weight，再次优化n_estimators \n",
    "\n",
    "def modelfit(alg, X_train, y_train, useTrainCV=True, cv_folds=None, early_stopping_rounds=100):\n",
    "    \n",
    "    if useTrainCV:\n",
    "        xgb_param = alg.get_xgb_params()\n",
    "        xgb_param['num_class'] = 3\n",
    "        \n",
    "        xgtrain = xgb.DMatrix(X_train, label = y_train)\n",
    "        \n",
    "        cvresult = xgb.cv(xgb_param, xgtrain, num_boost_round=alg.get_params()['n_estimators'], folds =cv_folds,\n",
    "                         metrics='mlogloss', early_stopping_rounds=early_stopping_rounds)\n",
    "        \n",
    "        cvresult.to_csv('2_nestimators.csv', index_label = 'n_estimators')\n",
    "        \n",
    "        n_estimators = cvresult.shape[0]\n",
    "        alg.set_params(n_estimators = n_estimators)\n",
    "         \n",
    "           \n",
    "    alg.fit(X_train, y_train, eval_metric='mlogloss')    \n",
    "    train_predprob = alg.predict_proba(X_train)\n",
    "    logloss = log_loss(y_train, train_predprob)\n",
    "    \n",
    "    print('best n_estimators :',n_estimators)\n",
    "    print('min logloss of train :',logloss)\n"
   ]
  },
  {
   "cell_type": "code",
   "execution_count": 26,
   "metadata": {},
   "outputs": [
    {
     "name": "stdout",
     "output_type": "stream",
     "text": [
      "best n_estimators : 122\n",
      "min logloss of train : 0.49577539351540617\n"
     ]
    }
   ],
   "source": [
    "# 设置xgb的参数，n_estimators为第一轮参数调整得到的最优值 \n",
    "\n",
    "xgb2_3 = XGBClassifier(\n",
    "        learning_rate =0.1,\n",
    "        n_estimators=122,   \n",
    "        max_depth=5,\n",
    "        min_child_weight=3,\n",
    "        gamma=0,\n",
    "        subsample=0.3,\n",
    "        colsample_bytree=0.8,\n",
    "        colsample_bylevel=0.7,\n",
    "        objective= 'multi:softprob',\n",
    "        seed=3)\n",
    "\n",
    "modelfit(xgb2_3, X_train, y_train, cv_folds = kfold)\n"
   ]
  },
  {
   "cell_type": "code",
   "execution_count": 27,
   "metadata": {},
   "outputs": [
    {
     "name": "stdout",
     "output_type": "stream",
     "text": [
      "最小的test-mlogloss-mean : 0.6272159999999999\n",
      "最小的train-mlogloss-mean : 0.4681566666666667\n"
     ]
    },
    {
     "data": {
      "text/plain": [
       "Text(0,0.5,'Log Loss')"
      ]
     },
     "execution_count": 27,
     "metadata": {},
     "output_type": "execute_result"
    },
    {
     "data": {
      "image/png": "[encoded data removed]",
      "text/plain": [
       "<matplotlib.figure.Figure at 0xb4ed908>"
      ]
     },
     "metadata": {},
     "output_type": "display_data"
    }
   ],
   "source": [
    "# 画图 n_estimators与Log Loss的关系\n",
    "\n",
    "cvresult = pd.read_csv('2_nestimators.csv')  \n",
    "\n",
    "print('最小的test-mlogloss-mean :',cvresult['test-mlogloss-mean'].values[-1])  \n",
    "print('最小的train-mlogloss-mean :',cvresult['train-mlogloss-mean'].values[-1])\n",
    "\n",
    "test_means = cvresult['test-mlogloss-mean']\n",
    "test_stds = cvresult['test-mlogloss-std'] \n",
    "train_means = cvresult['train-mlogloss-mean']\n",
    "train_stds = cvresult['train-mlogloss-std'] \n",
    "\n",
    "x_axis = range(0, cvresult.shape[0])\n",
    "\n",
    "plt.errorbar(x_axis, test_means, yerr=test_stds ,label='Test')\n",
    "plt.errorbar(x_axis, train_means, yerr=train_stds ,label='Train')\n",
    "plt.legend()\n",
    "plt.title(\"XGBoost n_estimators vs Log Loss\")\n",
    "plt.xlabel( 'n_estimators' )\n",
    "plt.ylabel( 'Log Loss' )"
   ]
  },
  {
   "cell_type": "markdown",
   "metadata": {},
   "source": [
    "小结：   \n",
    "1) 用优化的树参数max_depth=5和min_child_weight=3再次对训练集优化n_estimators，得到的最佳参数n_estimators=122(与第一次一样)。   \n",
    "2) 最小交叉验证测试误差：0.6272，训练误差: 0.4682。 "
   ]
  },
  {
   "cell_type": "markdown",
   "metadata": {},
   "source": [
    "------------------------------------------------------------------------------------------\n",
    "# 6.  调整树的参数：subsample 和 colsample_bytree"
   ]
  },
  {
   "cell_type": "code",
   "execution_count": 28,
   "metadata": {},
   "outputs": [
    {
     "data": {
      "text/plain": [
       "{'colsample_bytree': [0.6, 0.7, 0.8, 0.9],\n",
       " 'subsample': [0.3, 0.4, 0.5, 0.6, 0.7, 0.8]}"
      ]
     },
     "execution_count": 28,
     "metadata": {},
     "output_type": "execute_result"
    }
   ],
   "source": [
    "# 设置subsample和colsample的范围\n",
    "\n",
    "subsample = [i/10.0 for i in range(3,9)]\n",
    "colsample_bytree = [i/10.0 for i in range(6,10)]\n",
    "param_test3_1 = dict(subsample=subsample, colsample_bytree=colsample_bytree)\n",
    "param_test3_1"
   ]
  },
  {
   "cell_type": "code",
   "execution_count": 29,
   "metadata": {},
   "outputs": [
    {
     "data": {
      "text/plain": [
       "([mean: -0.62397, std: 0.00368, params: {'colsample_bytree': 0.6, 'subsample': 0.3},\n",
       "  mean: -0.62197, std: 0.00698, params: {'colsample_bytree': 0.6, 'subsample': 0.4},\n",
       "  mean: -0.61779, std: 0.00540, params: {'colsample_bytree': 0.6, 'subsample': 0.5},\n",
       "  mean: -0.61776, std: 0.00370, params: {'colsample_bytree': 0.6, 'subsample': 0.6},\n",
       "  mean: -0.61809, std: 0.00574, params: {'colsample_bytree': 0.6, 'subsample': 0.7},\n",
       "  mean: -0.61609, std: 0.00386, params: {'colsample_bytree': 0.6, 'subsample': 0.8},\n",
       "  mean: -0.62503, std: 0.00478, params: {'colsample_bytree': 0.7, 'subsample': 0.3},\n",
       "  mean: -0.62102, std: 0.00569, params: {'colsample_bytree': 0.7, 'subsample': 0.4},\n",
       "  mean: -0.61890, std: 0.00505, params: {'colsample_bytree': 0.7, 'subsample': 0.5},\n",
       "  mean: -0.61769, std: 0.00731, params: {'colsample_bytree': 0.7, 'subsample': 0.6},\n",
       "  mean: -0.61757, std: 0.00498, params: {'colsample_bytree': 0.7, 'subsample': 0.7},\n",
       "  mean: -0.61692, std: 0.00551, params: {'colsample_bytree': 0.7, 'subsample': 0.8},\n",
       "  mean: -0.62658, std: 0.00546, params: {'colsample_bytree': 0.8, 'subsample': 0.3},\n",
       "  mean: -0.62190, std: 0.00558, params: {'colsample_bytree': 0.8, 'subsample': 0.4},\n",
       "  mean: -0.61982, std: 0.00601, params: {'colsample_bytree': 0.8, 'subsample': 0.5},\n",
       "  mean: -0.61923, std: 0.00669, params: {'colsample_bytree': 0.8, 'subsample': 0.6},\n",
       "  mean: -0.61734, std: 0.00502, params: {'colsample_bytree': 0.8, 'subsample': 0.7},\n",
       "  mean: -0.61714, std: 0.00743, params: {'colsample_bytree': 0.8, 'subsample': 0.8},\n",
       "  mean: -0.62438, std: 0.00432, params: {'colsample_bytree': 0.9, 'subsample': 0.3},\n",
       "  mean: -0.62048, std: 0.00662, params: {'colsample_bytree': 0.9, 'subsample': 0.4},\n",
       "  mean: -0.62045, std: 0.00712, params: {'colsample_bytree': 0.9, 'subsample': 0.5},\n",
       "  mean: -0.61858, std: 0.00557, params: {'colsample_bytree': 0.9, 'subsample': 0.6},\n",
       "  mean: -0.61709, std: 0.00595, params: {'colsample_bytree': 0.9, 'subsample': 0.7},\n",
       "  mean: -0.61705, std: 0.00539, params: {'colsample_bytree': 0.9, 'subsample': 0.8}],\n",
       " {'colsample_bytree': 0.6, 'subsample': 0.8},\n",
       " -0.6160900429018424)"
      ]
     },
     "execution_count": 29,
     "metadata": {},
     "output_type": "execute_result"
    }
   ],
   "source": [
    "# 设置xgb的参数，n_estimators,max_depth,min_child_weight为前两步参数调整得到的最优值 \n",
    "\n",
    "xgb3_1 = XGBClassifier(\n",
    "        learning_rate =0.1,\n",
    "        n_estimators=122,   \n",
    "        max_depth=5,\n",
    "        min_child_weight=3,\n",
    "        gamma=0,\n",
    "        subsample=0.3,\n",
    "        colsample_bytree=0.8,\n",
    "        colsample_bylevel = 0.7,\n",
    "        objective= 'multi:softprob',\n",
    "        seed=3)\n",
    "\n",
    "gsearch3_1 = GridSearchCV(xgb3_1, param_grid = param_test3_1, scoring='neg_log_loss',n_jobs=-1, cv=kfold)\n",
    "gsearch3_1.fit(X_train , y_train)\n",
    "\n",
    "gsearch3_1.grid_scores_, gsearch3_1.best_params_,     gsearch3_1.best_score_"
   ]
  },
  {
   "cell_type": "code",
   "execution_count": 32,
   "metadata": {},
   "outputs": [
    {
     "name": "stdout",
     "output_type": "stream",
     "text": [
      "Best score is -0.616090 by using parameters of {'colsample_bytree': 0.6, 'subsample': 0.8}\n"
     ]
    },
    {
     "data": {
      "text/plain": [
       "Text(0,0.5,'Log Loss')"
      ]
     },
     "execution_count": 32,
     "metadata": {},
     "output_type": "execute_result"
    },
    {
     "data": {
      "image/png": "[encoded data removed]",
      "text/plain": [
       "<matplotlib.figure.Figure at 0xb936198>"
      ]
     },
     "metadata": {},
     "output_type": "display_data"
    }
   ],
   "source": [
    "# 结果汇总\n",
    "\n",
    "print(\"Best score is %f by using parameters of %s\" % (gsearch3_1.best_score_, gsearch3_1.best_params_))\n",
    "\n",
    "test_means = gsearch3_1.cv_results_[ 'mean_test_score' ]\n",
    "test_stds = gsearch3_1.cv_results_[ 'std_test_score' ]\n",
    "train_means = gsearch3_1.cv_results_[ 'mean_train_score' ]\n",
    "train_stds = gsearch3_1.cv_results_[ 'std_train_score' ]\n",
    "pd.DataFrame(gsearch3_1.cv_results_).to_csv('subsample_colsample_1.csv')\n",
    "\n",
    "# 数据转化为矩阵，行对应于colsample_bytree，列对应于subsample\n",
    "test_scores = np.array(test_means).reshape(len(colsample_bytree), len(subsample))\n",
    "train_scores = np.array(train_means).reshape(len(colsample_bytree), len(subsample))\n",
    "\n",
    "#  画图: subsample与Log Loss的关系的关系\n",
    "fig = plt.figure(figsize=(12,5))\n",
    "plt.subplot(121)\n",
    "for i, value in enumerate(colsample_bytree):\n",
    "#    plt.plot(subsample, -train_scores[i], label= 'train-colsample:'   + str(value))\n",
    "    plt.plot(subsample, -test_scores[i], label= 'test-colsample:'   + str(value))    \n",
    "plt.legend()\n",
    "plt.xlabel('subsample')                                                                                                      \n",
    "plt.ylabel('Log Loss')\n",
    "\n",
    "#  画图: colsample_bytree与Log Loss的关系\n",
    "plt.subplot(122)\n",
    "for i, value in enumerate(subsample):\n",
    "#    plt.plot(colsample_bytree, -train_scores[:,i], label= 'train-subsample:'   + str(value))\n",
    "    plt.plot(colsample_bytree, -test_scores[:,i], label= 'test-subsample:'   + str(value))    \n",
    "plt.legend()\n",
    "plt.xlabel('colsample_bytree')                                                                                                      \n",
    "plt.ylabel('Log Loss')\n"
   ]
  },
  {
   "cell_type": "markdown",
   "metadata": {},
   "source": [
    "小结：   \n",
    "1) 对行列采样参数subsample 和colsample_bytree进行优化，在subsample=0.8和colsample_bytree=0.6的情况下，得到的最小交叉验证测试误差为：0.6161。"
   ]
  },
  {
   "cell_type": "markdown",
   "metadata": {},
   "source": [
    "----------------------------------------------------------------------------------------\n",
    "# 7.  调整正则化参数：reg_alpha 和reg_lambda"
   ]
  },
  {
   "cell_type": "code",
   "execution_count": 33,
   "metadata": {},
   "outputs": [
    {
     "data": {
      "text/plain": [
       "{'reg_alpha': [0.1, 1, 1.5, 2], 'reg_lambda': [0.1, 0.5, 1, 2]}"
      ]
     },
     "execution_count": 33,
     "metadata": {},
     "output_type": "execute_result"
    }
   ],
   "source": [
    "# 设置正则参数范围\n",
    "\n",
    "reg_alpha = [0.1, 1, 1.5, 2]        # default = 0 \n",
    "reg_lambda = [0.1, 0.5, 1, 2]      # default = 1 \n",
    "\n",
    "param_test5_1 = dict(reg_alpha=reg_alpha, reg_lambda=reg_lambda)\n",
    "param_test5_1"
   ]
  },
  {
   "cell_type": "code",
   "execution_count": 34,
   "metadata": {},
   "outputs": [
    {
     "data": {
      "text/plain": [
       "([mean: -0.61581, std: 0.00291, params: {'reg_alpha': 0.1, 'reg_lambda': 0.1},\n",
       "  mean: -0.61614, std: 0.00442, params: {'reg_alpha': 0.1, 'reg_lambda': 0.5},\n",
       "  mean: -0.61507, std: 0.00392, params: {'reg_alpha': 0.1, 'reg_lambda': 1},\n",
       "  mean: -0.61488, std: 0.00370, params: {'reg_alpha': 0.1, 'reg_lambda': 2},\n",
       "  mean: -0.61559, std: 0.00442, params: {'reg_alpha': 1, 'reg_lambda': 0.1},\n",
       "  mean: -0.61633, std: 0.00374, params: {'reg_alpha': 1, 'reg_lambda': 0.5},\n",
       "  mean: -0.61676, std: 0.00398, params: {'reg_alpha': 1, 'reg_lambda': 1},\n",
       "  mean: -0.61650, std: 0.00367, params: {'reg_alpha': 1, 'reg_lambda': 2},\n",
       "  mean: -0.61632, std: 0.00454, params: {'reg_alpha': 1.5, 'reg_lambda': 0.1},\n",
       "  mean: -0.61678, std: 0.00444, params: {'reg_alpha': 1.5, 'reg_lambda': 0.5},\n",
       "  mean: -0.61770, std: 0.00446, params: {'reg_alpha': 1.5, 'reg_lambda': 1},\n",
       "  mean: -0.61591, std: 0.00477, params: {'reg_alpha': 1.5, 'reg_lambda': 2},\n",
       "  mean: -0.61633, std: 0.00516, params: {'reg_alpha': 2, 'reg_lambda': 0.1},\n",
       "  mean: -0.61598, std: 0.00527, params: {'reg_alpha': 2, 'reg_lambda': 0.5},\n",
       "  mean: -0.61651, std: 0.00482, params: {'reg_alpha': 2, 'reg_lambda': 1},\n",
       "  mean: -0.61665, std: 0.00499, params: {'reg_alpha': 2, 'reg_lambda': 2}],\n",
       " {'reg_alpha': 0.1, 'reg_lambda': 2},\n",
       " -0.6148801669557812)"
      ]
     },
     "execution_count": 34,
     "metadata": {},
     "output_type": "execute_result"
    }
   ],
   "source": [
    "# 设置xgb的参数，n_estimators,max_depth,min_child_weight,subsample,colsample_bytree为前三步参数调整得到的最优值 \n",
    "\n",
    "xgb5_1 = XGBClassifier(\n",
    "        learning_rate =0.1,\n",
    "        n_estimators=122,   \n",
    "        max_depth=5,\n",
    "        min_child_weight=3,\n",
    "        gamma=0,\n",
    "        subsample=0.8,\n",
    "        colsample_bytree=0.6,\n",
    "        colsample_bylevel = 0.7,\n",
    "        objective= 'multi:softprob',\n",
    "        seed=3)\n",
    "\n",
    "warnings.filterwarnings('ignore')  # 忽略错误信息\n",
    "\n",
    "gsearch5_1 = GridSearchCV(xgb5_1, param_grid = param_test5_1, scoring='neg_log_loss',n_jobs=-1, cv=kfold)\n",
    "gsearch5_1.fit(X_train , y_train)\n",
    "\n",
    "gsearch5_1.grid_scores_, gsearch5_1.best_params_,     gsearch5_1.best_score_"
   ]
  },
  {
   "cell_type": "code",
   "execution_count": 36,
   "metadata": {},
   "outputs": [
    {
     "name": "stdout",
     "output_type": "stream",
     "text": [
      "Best score is -0.614880 by using parameters of {'reg_alpha': 0.1, 'reg_lambda': 2}\n"
     ]
    },
    {
     "data": {
      "text/plain": [
       "Text(0,0.5,'-Log Loss')"
      ]
     },
     "execution_count": 36,
     "metadata": {},
     "output_type": "execute_result"
    },
    {
     "data": {
      "image/png": "[encoded data removed]",
      "text/plain": [
       "<matplotlib.figure.Figure at 0xb936e48>"
      ]
     },
     "metadata": {},
     "output_type": "display_data"
    }
   ],
   "source": [
    "# 结果汇总\n",
    "\n",
    "print(\"Best score is %f by using parameters of %s\" % (gsearch5_1.best_score_, gsearch5_1.best_params_))\n",
    "\n",
    "test_means = gsearch5_1.cv_results_[ 'mean_test_score' ]\n",
    "test_stds = gsearch5_1.cv_results_[ 'std_test_score' ]\n",
    "train_means = gsearch5_1.cv_results_[ 'mean_train_score' ]\n",
    "train_stds = gsearch5_1.cv_results_[ 'std_train_score' ]\n",
    "pd.DataFrame(gsearch5_1.cv_results_).to_csv('regalpha_reglambda_1.csv')\n",
    "\n",
    "# 数据转化为矩阵，行对应于reg_alpha，列对应于reg_lambda\n",
    "test_scores = np.array(test_means).reshape(len(reg_alpha), len(reg_lambda))\n",
    "train_scores = np.array(train_means).reshape(len(reg_alpha), len(reg_lambda))\n",
    "\n",
    "#  画图: reg_lambda与Log Loss的关系的关系\n",
    "fig = plt.figure(figsize=(12,5))\n",
    "plt.subplot(121)\n",
    "for i, value in enumerate(reg_alpha):\n",
    "#    plt.plot(reg_lambda, -train_scores[i], label= 'train-reg_alpha:'   + str(value))\n",
    "    plt.plot(reg_lambda, -test_scores[i], label= 'test-reg_alpha:'   + str(value))    \n",
    "plt.legend()\n",
    "plt.xlabel('reg_lambda')                                                                                                      \n",
    "plt.ylabel('Log Loss')\n",
    "\n",
    "#  画图: reg_alpha与Log Loss的关系\n",
    "plt.subplot(122)\n",
    "for i, value in enumerate(reg_lambda):\n",
    "#    plt.plot(reg_alpha, -train_scores[:,i], label= 'train-reg_lambda:'   + str(value))\n",
    "    plt.plot(reg_alpha, -test_scores[:,i], label= 'test-reg_lambda:'   + str(value))       \n",
    "plt.legend()\n",
    "plt.xlabel( 'reg_alpha' )                                                                                                      \n",
    "plt.ylabel( '-Log Loss' )\n"
   ]
  },
  {
   "cell_type": "markdown",
   "metadata": {},
   "source": [
    "小结：  \n",
    "1) 对正则参数reg_alpha 和reg_lambda进行优化，在reg_alpha=0.1和reg_lambda=2的情况下，得到的最小交叉验证测试误差为：0.6149。"
   ]
  },
  {
   "cell_type": "markdown",
   "metadata": {},
   "source": [
    "-------------------------------------------------------------------------------------------\n",
    "# 结论： \n",
    "\n",
    "1) 用默认的xgboost对训练数据进行分类，用xgb.featureimportances查看特征重要性，得到在227个特征中，只有71个特征的重要性不为0。大部分的输入特征对分类结果不起作用。  \n",
    "2) 用xgboost内嵌的cv、以及GridSearchCV等方法对训练数据采用交叉验证的方法进行优化分类，用训练集的全部输入特征，或是用训练集的重要性不为0的71个特征进行优化分类，两者得到的最小交叉验证测试误差相差不大。为了减少运行时间，用训练集的重要性不为0的71个特征进行优化分类。  \n",
    "3) 用xgboost内嵌的cv、以及GridSearchCV等方法对训练数据采用交叉验证的方法进行优化分类，得到的最优参数为：n_estimators=122，max_depth=5， min_child_weight=3，subsample=0.8，colsample_bytree=0.6，reg_alpha=0.1，reg_lambda=2；在最优参数下最小交叉验证测试误差为：0.6149。"
   ]
  },
  {
   "cell_type": "code",
   "execution_count": null,
   "metadata": {},
   "outputs": [],
   "source": []
  }
 ],
 "metadata": {
  "kernelspec": {
   "display_name": "Python 3",
   "language": "python",
   "name": "python3"
  },
  "language_info": {
   "codemirror_mode": {
    "name": "ipython",
    "version": 3
   },
   "file_extension": ".py",
   "mimetype": "text/x-python",
   "name": "python",
   "nbconvert_exporter": "python",
   "pygments_lexer": "ipython3",
   "version": "3.6.4"
  }
 },
 "nbformat": 4,
 "nbformat_minor": 2
}
